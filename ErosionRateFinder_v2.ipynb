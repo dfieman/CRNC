{
  "cells": [
    {
      "cell_type": "markdown",
      "metadata": {
        "id": "view-in-github",
        "colab_type": "text"
      },
      "source": [
        "<a href=\"https://colab.research.google.com/github/dfieman/CRNC/blob/main/ErosionRateFinder_v2.ipynb\" target=\"_parent\"><img src=\"https://colab.research.google.com/assets/colab-badge.svg\" alt=\"Open In Colab\"/></a>"
      ]
    },
    {
      "cell_type": "code",
      "execution_count": null,
      "metadata": {
        "colab": {
          "base_uri": "https://localhost:8080/"
        },
        "id": "5Vjjnx3rt8pZ",
        "outputId": "c05d4f0e-cf4e-4b88-b508-71d399e3a386"
      },
      "outputs": [
        {
          "output_type": "stream",
          "name": "stdout",
          "text": [
            "Drive already mounted at /content/drive; to attempt to forcibly remount, call drive.mount(\"/content/drive\", force_remount=True).\n"
          ]
        }
      ],
      "source": [
        "#==================================================================================================================\n",
        "# Code for getting the erosion rate of each cell. Uses linear and nonlinear diffusion and slope-dependent erosion #\n",
        "# Main output is the erosion rate [cm/yr] and the concentration [at/g] of every cell. User can either input a\n",
        "# catchment-averged erosion rate and/or measured Be-10, Al-26, or C-14 concentration.\n",
        "#==================================================================================================================\n",
        "##\n",
        "\n",
        "import math\n",
        "import numpy as np\n",
        "from osgeo import gdal\n",
        "import matplotlib.pyplot as plt\n",
        "from scipy import interpolate, LowLevelCallable\n",
        "import scipy.integrate as integrate\n",
        "import multiprocessing\n",
        "import sys\n",
        "import datetime\n",
        "from functools import partial\n",
        "import os\n",
        "import glob\n",
        "import ctypes\n",
        "import numba\n",
        "from numba import jit\n",
        "#import more_itertools as mit\n",
        "from scipy.interpolate import Rbf\n",
        "from scipy.interpolate import griddata\n",
        "import random\n",
        "from scipy.optimize import minimize\n",
        "from scipy.optimize import minimize_scalar\n",
        "from scipy.optimize import newton\n",
        "import pandas as pd\n",
        "from google.colab import drive\n",
        "drive.mount('/content/drive')"
      ]
    },
    {
      "cell_type": "code",
      "execution_count": null,
      "metadata": {
        "id": "zvLI0GzUuwVR"
      },
      "outputs": [],
      "source": [
        "#############\n",
        "# FUNCTIONS #\n",
        "#############\n",
        "\n",
        "# PRODUCTION RATE FUNCTIONS #\n",
        "## Only calculates the production at the surface scaled to elevation and latitude.\n",
        "## Spallation scaled to scheme by Lal/Stone\n",
        "## Muons are simplified to one exponential function and scaled to scheme by Balco 2017\n",
        "\n",
        "#Convert elevation to units of hPa (barometric pressure) and g/cm^2 (atmospheric pressure).\n",
        "def h_units(h):\n",
        "    #Constants for pressure\n",
        "    Psl = 1013.25 #hPa; atmopheric pressure at sea level\n",
        "    tempsl = 288.15 #K; temperature at sea level\n",
        "    dTdz = 0.0065 #K/m; adiabatic lapse rate\n",
        "    g = 9.80665 #m/s^2\n",
        "    air = 0.0289644 #kg/mol; molecular mass of air\n",
        "    gas = 8.31446 #J/mol/K; gas constant\n",
        "    baro = Psl * np.exp(-1*(g*air/(gas*dTdz))*(np.log(tempsl)-np.log(tempsl-(dTdz*h))))\n",
        "    atPres = 1.019716*(1013.25-baro)\n",
        "    return baro, atPres\n",
        "\n",
        "#Spallation scaling production equations from Stone 2000:\n",
        "#Input argument l =latitude [deg], h = elevation [hPa], and Pref = reference production rate at SLHL [atoms/g/yr]\n",
        "def spalProd(l,pressure_array):\n",
        "    #Interpolation for latitute coefficient. See Table 1 Stone 2000\n",
        "    coeff = np.array([(31.8518, 250.3193, -0.083393, 7.4260E-5, -2.2397E-8),(34.3699, 258.4759, -0.089807, 7.9457E-5, -2.3697E-8),(40.3153, 308.9894, -0.106248, 9.4508E-5, -2.8234E-8),(42.0983, 512.6857, -0.120551, 1.1752E-4, -3.8809E-8), (56.7733, 649.1343, -0.160859, 1.5463E-4, -5.033E-8),(69.0720, 832.4566, -0.199252, 1.9391E-4, -6.3653E-8),(71.8733, 863.1927, -0.207069, 2.0127E-4, -6.6043E-8)])\n",
        "    a_coeff = coeff[:,0]\n",
        "    b_coeff = coeff[:,1]\n",
        "    c_coeff = coeff[:,2]\n",
        "    d_coeff = coeff[:,3]\n",
        "    e_coeff = coeff[:,4]\n",
        "    lat = np.array([0,10,20,30,40,50,60])\n",
        "    a_func = interpolate.interp1d(lat,a_coeff)\n",
        "    b_func = interpolate.interp1d(lat,b_coeff)\n",
        "    c_func = interpolate.interp1d(lat,c_coeff)\n",
        "    d_func = interpolate.interp1d(lat,d_coeff)\n",
        "    e_func = interpolate.interp1d(lat,e_coeff)\n",
        "    Sp = a_func(l)+(b_func(l)*np.exp(-1*pressure_array/150))+(c_func(l)*pressure_array)+(d_func(l)*(pressure_array**2))+(e_func(l)*(pressure_array**3)) #Scaling factor\n",
        "    Pref = [3.84,25.92,11.7]\n",
        "    return 0.978*Sp*Pref[CRN]\n",
        "\n",
        "def LeffCalculator(pressure_array,erosion_array):\n",
        "\n",
        "    valid_values = erosion_array>0.0\n",
        "    rows,cols = np.where(valid_values)\n",
        "\n",
        "    baro = np.where(np.isnan(erosion_array),np.nan,pressure_array)\n",
        "    baro_flat = baro.flatten()[~np.isnan(baro.flatten())]\n",
        "    erosion_flat = erosion_array.flatten()[~np.isnan(erosion_array.flatten())]\n",
        "    #print(len(baro_flat),len(erosion_flat))\n",
        "    Leffmu = griddata((P_grid.flatten(),E_grid.flatten()),Leff[CRN].flatten(),(baro_flat,erosion_flat),method='nearest')\n",
        "\n",
        "    Leff2D = np.full_like(baro,np.nan,dtype='float')\n",
        "    for i,j,val in zip(rows,cols,Leffmu):\n",
        "        Leff2D[i][j] = val\n",
        "\n",
        "    return Leff2D\n",
        "\n",
        "def muProd(pressure_array):\n",
        "    return Pref_mu[CRN]*np.exp((1013.25-pressure_array)/mu_efold[CRN])\n",
        "\n",
        "#Concentration if t is inf and at the surface.\n",
        "def surfaceConcentration(pressure_array,erosion_array,spProd,muProd):\n",
        "    Leffmu = LeffCalculator(pressure_array,erosion_array)\n",
        "    #print('Leff mean:',np.nanmean(Leffmu))\n",
        "    Csp = spProd/(decayConst[CRN]+(rho*erosion_array/sp_efold))\n",
        "    Cmu = muProd/(decayConst[CRN]+(rho*erosion_array/Leffmu))\n",
        "    return Csp+Cmu\n",
        "\n",
        "# BEST-FIT FUNCTIONS #\n",
        "\n",
        "#Find the best-fit K and Sc for diffusion if concentration is the input\n",
        "def diffK_C(params,fx,fxx,fy,fyy,pressure_array,spProd,muProd):\n",
        "    K,Sc = params\n",
        "\n",
        "    curvature = fxx+fyy\n",
        "    slope = np.sqrt((fx**2)+(fy**2))\n",
        "\n",
        "    linearFlux = -1*(K*(fxx+fyy))*100\n",
        "    linearErosion = np.where((curvature >= -0.0005), np.nan, linearFlux)\n",
        "\n",
        "    nonlinearFlux = -1*(K*(((fxx+fyy)/(1-((slope/Sc)**2)))+(2*(((fx**2)*fxx)+((fy**2)*fyy)+((fx**2)*fyy)+((fy**2)*fxx))/((Sc**2)*((1-((slope/Sc)))**2)))))*100\n",
        "    nonlinearErosion = np.where((curvature >= -0.0005), np.nan, nonlinearFlux)\n",
        "\n",
        "    Leffmu_lin = LeffCalculator(pressure_array,linearErosion)\n",
        "    Leffmu_nonlin = LeffCalculator(pressure_array,nonlinearErosion)\n",
        "\n",
        "    C_total_linE = (spProd/(decayConst[CRN]+(rho*linearErosion/sp_efold)))+(muProd/(decayConst[CRN]+(rho*linearErosion/Leffmu_lin)))\n",
        "    C_total_nonlinE = (spProd/(decayConst[CRN]+(rho*nonlinearErosion/sp_efold)))+(muProd/(decayConst[CRN]+(rho*nonlinearErosion/Leffmu_nonlin)))\n",
        "\n",
        "    return abs(np.nanmean(C_total_linE)-C_measured)+abs(np.nanmean(C_total_nonlinE)-C_measured)\n",
        "    #return abs(np.nanmedian(C_total_linE)-C_measured)+abs(np.nanmedian(C_total_nonlinE)-C_measured)\n",
        "\n",
        "#Find the best-fit K and Sc for diffusion if erosion is the input\n",
        "def diffK_E(params,fx,fxx,fy,fyy,spProd,muProd,eRate):\n",
        "    K,Sc = params\n",
        "\n",
        "    curvature = fxx+fyy\n",
        "    slope = np.sqrt((fx**2)+(fy**2))\n",
        "\n",
        "    linearFlux = -1*(K*(fxx+fyy))*100\n",
        "    linearErosion = np.where((curvature >= -0.0005), np.nan, linearFlux)\n",
        "\n",
        "    nonlinearFlux = -1*(K*(((fxx+fyy)/(1-((slope/Sc)**2)))+(2*(((fx**2)*fxx)+((fy**2)*fyy)+((fx**2)*fyy)+((fy**2)*fxx))/((Sc**2)*((1-((slope/Sc)))**2)))))*100\n",
        "    nonlinearErosion = np.where((curvature >= -0.0005), np.nan, nonlinearFlux)\n",
        "\n",
        "    return abs(np.nanmean(linearErosion)-eRate)+abs(np.nanmean(nonlinearErosion)-eRate)\n",
        "\n",
        "\n",
        "#Find the best-fit K and Sc for slope-dependent erosion Mont&Brandon\n",
        "def slopeK_C(params,slope,pressure_array,spProd,muProd):\n",
        "    K,Sc = params\n",
        "\n",
        "    slopeDependent = (K*(slope/(1-((slope/Sc)**2))))*100 #convert from m/yr to cm/yr\n",
        "    slopeErosion = np.where((np.isinf(slopeDependent) | (slopeDependent <= 0.0)), np.nan, slopeDependent)\n",
        "\n",
        "    Leffmu = LeffCalculator(pressure_array,slopeErosion)\n",
        "\n",
        "    C_total = (spProd/(decayConst[CRN]+(rho*slopeErosion/sp_efold)))+(muProd/(decayConst[CRN]+(rho*slopeErosion/Leffmu)))\n",
        "\n",
        "    return abs(np.nanmean(C_total)-C_measured)\n",
        "    #return abs(np.nanmedian(C_total)-C_measured)\n",
        "\n",
        "def slopeK_E(params,slope,spProd,muProd,eRate):\n",
        "    K,Sc = params\n",
        "\n",
        "    slopeDependent = (K*(slope/(1-((slope/Sc)**2))))*100 #convert from m/yr to m/yr\n",
        "    slopeErosion = np.where((np.isinf(slopeDependent) | (slopeDependent <= 0.0)), np.nan, slopeDependent)\n",
        "\n",
        "    return abs(np.nanmean(slopeErosion)-eRate)\n",
        "\n",
        "\n",
        "# Solve for uniform E with the measured Concentration\n",
        "def uniformEFinder(erosion,pressure_array,spProd,muProd):\n",
        "    uniformErosion = np.where(~np.isnan(pressure_array),erosion,pressure_array)\n",
        "\n",
        "    Leffmu = LeffCalculator(pressure_array,uniformErosion)\n",
        "\n",
        "    C_total = (spProd/(decayConst[CRN]+(rho*uniformErosion/sp_efold)))+(muProd/(decayConst[CRN]+(rho*uniformErosion/Leffmu)))\n",
        "\n",
        "    return abs(np.nanmean(C_total)-C_measured)\n",
        "\n",
        "# EROSION-RATE FUNCTIONS #\n",
        "\n",
        "# Create erosion rates based on best fit K and Sc values\n",
        "@jit(nopython = True)\n",
        "def erosionRate(fx,fy,fxx,fyy,diffK,slopeK,diffSc,slopeSc,uniform_erosion):\n",
        "    slope = np.sqrt((fx**2)+(fy**2))\n",
        "    curvature = fxx+fyy\n",
        "\n",
        "    #limit curvature so greater than -0.0005 is flat\n",
        "\n",
        "    linearFlux = -1*(diffK*(fxx+fyy))*100\n",
        "    linear = np.where((curvature >= -0.0005), np.nan, linearFlux)\n",
        "\n",
        "    nonlinearFlux = -1*(diffK*(((fxx+fyy)/(1-((slope/diffSc)**2)))+(2*(((fx**2)*fxx)+((fy**2)*fyy)+((fx**2)*fyy)+((fy**2)*fxx))/((diffSc**2)*((1-((slope/diffSc)))**2)))))*100\n",
        "    nonlinear = np.where((curvature >= -0.0005), np.nan, nonlinearFlux)\n",
        "\n",
        "\n",
        "    slopeDependent = slopeK*(slope/(1-((slope/slopeSc)**2)))*100 #Montgomery&Brandon2002\n",
        "    slopeErosion = np.where((np.isinf(slopeDependent) | (slopeDependent <= 0.0)), np.nan, slopeDependent)\n",
        "\n",
        "    uniform = np.where(~np.isnan(slope),uniform_erosion,slope)\n",
        "    #return linearErosion, nonlinearErosion, slopeEroion\n",
        "    return linear,nonlinear,slopeErosion,uniform\n",
        "\n",
        "# Uncertainties using guasssian propagation\n",
        "\n",
        "def erosionUncertainty(pressure_array,erosion_array):\n",
        "    pressure = np.where(np.isnan(erosion_array),np.nan,pressure_array)\n",
        "    Sp = spalProd(latitude,pressure)/Pref[CRN]\n",
        "    dEdP = sp_efold*Sp/(rho*C_measured)\n",
        "    dEdC = -sp_efold*Sp*Pref[CRN]/(rho*C_measured**2)\n",
        "    return np.sqrt(((dEdP*Pref_unc[CRN])**2)+((dEdC*C_measured_unc)**2))\n",
        "\n",
        "def concUncertainty(pressure_array,erosion_array,erosion_array_unc):\n",
        "    pressure = np.where(np.isnan(erosion_array),np.nan,pressure_array)\n",
        "    Sp = spalProd(latitude,pressure)/Pref[CRN]\n",
        "    dCdP = Sp/(decayConst[CRN]+(rho*erosion_array/sp_efold))\n",
        "    dCdE = -rho*Sp*Pref[CRN]/(((decayConst[CRN]+(rho*erosion_array/sp_efold))**2)*sp_efold)\n",
        "    return np.sqrt(((dCdP*Pref_unc[CRN])**2)+((dCdE*erosion_array_unc)**2))\n",
        "\n",
        "# FUNCTIONS FOR INITAITING INPUTS AND CREATING TIFS #\n",
        "\n",
        "#Open TIFs\n",
        "def gdal_open(DEM_name,folder):\n",
        "    raster = gdal.Open(folder+DEM_name)\n",
        "    nodata = raster.GetRasterBand(1).GetNoDataValue()\n",
        "    array = raster.GetRasterBand(1).ReadAsArray()\n",
        "    array[array==nodata]=np.nan\n",
        "    return array\n",
        "\n",
        "#Make numpy arrays into rasters\n",
        "def RasterMaker(array,output_file,reference_tiff):\n",
        "    reference = gdal.Open(reference_tiff)\n",
        "    nodata = reference.GetRasterBand(1).GetNoDataValue()\n",
        "    array[np.isnan(array)]=nodata\n",
        "    driver = gdal.GetDriverByName('GTiff')\n",
        "    raster = driver.CreateCopy(output_file, reference, strict=0, options=[\"TILED=YES\",\"COMPRESS=PACKBITS\"])\n",
        "    raster.GetRasterBand(1).WriteArray(array)\n",
        "    raster.GetRasterBand(1).SetNoDataValue(nodata)\n",
        "    raster = None\n",
        "\n"
      ]
    },
    {
      "cell_type": "code",
      "execution_count": null,
      "metadata": {
        "colab": {
          "base_uri": "https://localhost:8080/"
        },
        "id": "5LZAErHlu9z3",
        "outputId": "8780d69b-1247-47f7-f4ff-f08065227996"
      },
      "outputs": [
        {
          "output_type": "stream",
          "name": "stdout",
          "text": [
            "Stanley\n"
          ]
        }
      ],
      "source": [
        "######################################\n",
        "# Paramters for production functions # Dont touch this\n",
        "######################################\n",
        "CRNs = ['Be10','Al26','C14']\n",
        "halfLife = [1.36e6, 7.17e5, 5700] #Half life\n",
        "decayConst = np.log(2)/halfLife #Decay constant\n",
        "sp_efold = 160 #effective attenuation length into rock [g/cm2]\n",
        "\n",
        "#Pre-calculated Leff grid from Balco 2016 for muon efolding length\n",
        "#Erate in cm/yr\n",
        "Erate = [0,0.0001,0.000158489,0.000251189,0.000398107,0.000630957,0.001,0.001584893,0.002511886,0.003981072,0.006309573,0.01,0.015848932,0.025118864,0.039810717,0.063095734,0.1,0.158489319,0.251188643,0.398107171,0.630957344,1]\n",
        "Pressure = [450,480,510,540,570,600,630,660,690,720,750,780,810,840,870,900,930,960,990,1020]\n",
        "\n",
        "P_grid,E_grid = np.meshgrid(Pressure,Erate)\n",
        "#Rows are erosion rate, columns are pressure\n",
        "Leff26 = np.genfromtxt('/content/drive/MyDrive/Topo_Analysis/Leff26.csv',delimiter=',')\n",
        "Leff10 = np.genfromtxt('/content/drive/MyDrive/Topo_Analysis/Leff10.csv',delimiter=',')\n",
        "Leff = [Leff10,Leff26]\n",
        "\n",
        "#For indexing\n",
        "Be10 = 0\n",
        "Al26 = 1\n",
        "C14 = 2\n",
        "\n",
        "#Reference production rate in atoms/g/yr for spallation production and muon production.\n",
        "#For spallation 10Be we use number from Putnam et al, C14 from Schaefer et al 2014. We use a 6.75 ratio for 26/10.\n",
        "# Muon is found from Balco 2017. No uncertainties are given\n",
        "Pref = [3.84,25.92, 11.7]\n",
        "Pref_unc = [0.08,0.54,0.9]\n",
        "Pref_mu = [0.0735,0.6764,3.067] #atoms/g/yr\n",
        "mu_efold = [299.2,288.0,267.8] #hPa\n",
        "\n",
        "###############\n",
        "# USER INPUTS #\n",
        "###############\n",
        "\n",
        "## Which CRN would you like to model?\n",
        "CRN = Be10 #Option are 'Be10','Al26', or 'C14'. Can only do one at a time for now. Dont put quotes around it\n",
        "\n",
        "rho = 2.65 #rock density [g/cm2]\n",
        "latitude = 42 #[deg]\n",
        "\n",
        "#DEM_name = 'Hapuku'\n",
        "#DEM_name = 'Kowhai'\n",
        "DEM_name = 'Stanley'\n",
        "#DEM_name = 'Baton'\n",
        "print(DEM_name)\n",
        "# #Where rasters are saved\n",
        "folder = '/content/drive/MyDrive/Topo_Analysis/'\n",
        "erosion_folder = '/content/drive/MyDrive/Erosion_Rasters/'\n",
        "rasterformat = '.tif'\n",
        "\n",
        "#C_measured = 3127 if DEM_name == 'Hapuku' else 2375 # Measured concentration\n",
        "#C_measured_unc = 226 if DEM_name == 'Hapuku' else 190\n",
        "C_measured = 29400 if DEM_name == 'Baton' else 60000 # Measured concentration\n",
        "C_measured_unc = 3300 if DEM_name == 'Baton' else 2800\n",
        "\n",
        "elevation_raster = f'{DEM_name}_Masked_Wshd'\n",
        "slope_raster = f'{DEM_name}_r6_Slope'\n",
        "curvature_raster = f'{DEM_name}_r6_Curvature'\n",
        "derivative_rasters = [f'{DEM_name}_r6_dx',f'{DEM_name}_r6_dxx',f'{DEM_name}_r6_dy',f'{DEM_name}_r6_dyy']\n",
        "hilltop_raster = f'{DEM_name}_r6_HTCurvature'"
      ]
    },
    {
      "cell_type": "markdown",
      "metadata": {
        "id": "fPZW6FJPNO2f"
      },
      "source": [
        "# New Section"
      ]
    },
    {
      "cell_type": "code",
      "execution_count": null,
      "metadata": {
        "colab": {
          "base_uri": "https://localhost:8080/"
        },
        "id": "YQ_TAkemvW4f",
        "outputId": "2ead0061-f2eb-472e-a62a-6ba04c0ab181"
      },
      "outputs": [
        {
          "output_type": "stream",
          "name": "stdout",
          "text": [
            "opened rasters\n"
          ]
        }
      ],
      "source": [
        "###########################################\n",
        "# Open rasters and convert  to numpy arrays\n",
        "###########################################\n",
        "\n",
        "elevationArray = gdal_open(elevation_raster+rasterformat,folder)\n",
        "slopeArray = gdal_open(slope_raster+rasterformat,folder)\n",
        "curvatureArray = gdal_open(curvature_raster+rasterformat,folder)\n",
        "derivativeArrays = [gdal_open(raster+rasterformat,folder) for raster in derivative_rasters]\n",
        "hilltopArray = gdal_open(hilltop_raster+rasterformat,folder)\n",
        "\"\"\"\n",
        "Baton_erosion_names = ['Baton_K0.000_Sc7.00_SlopeErosion','Baton_K0.019_LinErosion','Baton_K0.019_Sc6.99_NonlinErosion']\n",
        "Baton_concentration_names = ['Baton_Be10_uniformE0.02','Baton_Be10_slopeE0.02','Baton_Be10_linE0.07','Baton_Be10_nonlinE12.39']\n",
        "\"\"\"\n",
        "dx = derivativeArrays[0]\n",
        "dxx = derivativeArrays[1]\n",
        "dy = derivativeArrays[2]\n",
        "dyy = derivativeArrays[3]\n",
        "\n",
        "print(\"opened rasters\")"
      ]
    },
    {
      "cell_type": "code",
      "execution_count": null,
      "metadata": {
        "colab": {
          "base_uri": "https://localhost:8080/"
        },
        "id": "i8bO1xpDu6kX",
        "outputId": "1a1a96a1-3df5-4e82-bc01-1a0d7ceeebd1"
      },
      "outputs": [
        {
          "output_type": "stream",
          "name": "stdout",
          "text": [
            "solved spallation production\n",
            "solved muon production\n"
          ]
        }
      ],
      "source": [
        "################\n",
        "# CALCULATIONS #\n",
        "################\n",
        "\n",
        "#Inital guesses. These are super important. If they're not within about 10% of the value good luck\n",
        "#Sc_x0 = 2.0 #Change to just below max slope #7.0\n",
        "#uniform_x0 = 0.005 #0.015\n",
        "#diffK_x0 = 0.005 #0.0005\n",
        "#slopeK_x0 = 0.0001 #0.0003\n",
        "Sc_x0 = 2.0\n",
        "uniform_x0 = 0.006\n",
        "diffK_x0 = 0.008\n",
        "slopeK_x0 = 0.0002\n",
        "\n",
        "# Convert elevation [m] (2D array) barometric pressure [hPa] and atmospheric pressure [g/cm2]\n",
        "pressure_array, atPres = h_units(elevationArray)\n",
        "\n",
        "# Solve for spallation production at the surface. Inputs l = latitude (scalar), h = baro (2D array), Pref = reference production rate.\n",
        "Psp = spalProd(latitude,pressure_array)\n",
        "print('solved spallation production')\n",
        "\n",
        "# Solve for muon production at surface:\n",
        "Pmu = muProd(pressure_array)\n",
        "print('solved muon production')"
      ]
    },
    {
      "cell_type": "code",
      "source": [
        "\"\"\"\n",
        "Bat_uniform_erosion = 0.01806\n",
        "\n",
        "Baton_erosion_arrays = [gdal_open(name+rasterformat,erosion_folder) for name in Baton_erosion_names]\n",
        "Baton_erosion_arrays.insert(0,np.full_like(Baton_erosion_arrays[0],Bat_uniform_erosion))\n",
        "Baton_conc_arrays = [gdal_open(name+rasterformat,erosion_folder) for name in Baton_concentration_names]\n",
        "\n",
        "E_type = ['Uniform','Slope','Linear','Nonlinear']\n",
        "\n",
        "E_mean = [np.nanmean(erosion) for erosion in Baton_erosion_arrays]\n",
        "E_median = [np.nanmedian(erosion) for erosion in Baton_erosion_arrays]\n",
        "C_mean = [np.nanmean(concentration) for concentration in Baton_conc_arrays]\n",
        "C_median = [np.nanmedian(concentration) for concentration in Baton_conc_arrays]\n",
        "\n",
        "\n",
        "erosionArrays_unc = [erosionUncertainty(pressure_array,erosion) for erosion in Baton_erosion_arrays]\n",
        "concArrays_unc = [concUncertainty(pressure_array,erosion,erosion_unc) for erosion,erosion_unc in zip(Baton_erosion_arrays,erosionArrays_unc)]\n",
        "print(len(erosionArrays_unc))\n",
        "print(len(concArrays_unc))\n",
        "\n",
        "E_mean_unc = [np.sqrt(np.nansum(erosion_unc**2)/np.count_nonzero(~np.isnan(erosion_unc))) for erosion_unc in erosionArrays_unc]\n",
        "E_median_unc = [np.nanmedian(erosion_unc) for erosion_unc in erosionArrays_unc]\n",
        "\n",
        "C_mean_unc = [np.sqrt(np.nansum(conc_unc**2)/np.count_nonzero(~np.isnan(conc_unc))) for conc_unc in concArrays_unc]\n",
        "C_median_unc = [np.nanmedian(conc_unc) for conc_unc in concArrays_unc]\n",
        "\n",
        "mean_HT = np.nanmean(hilltopArray)\n",
        "K_HT_uniform = (-(1/100)*Bat_uniform_erosion/mean_HT)\n",
        "#E_list.append(uniformE)\n",
        "K_HT_linear = ((-1/100)*E_mean[2]/mean_HT)\n",
        "#E_list.append(E_list[0])\n",
        "\n",
        "print('E_type:',E_type)\n",
        "print('Mean E:',E_mean)\n",
        "print('Mean E unc:',E_mean_unc)\n",
        "print('Median E:',E_median)\n",
        "print('Median E unc:',E_median_unc)\n",
        "print('Mean C:',C_mean)\n",
        "print('Mean C unc:',C_mean_unc)\n",
        "print('Median C:',C_median)\n",
        "print('Median C unc:',C_median_unc)\n",
        "print('K-uni:',K_HT_uniform)\n",
        "print('K-lin:',K_HT_linear)\n",
        "\"\"\""
      ],
      "metadata": {
        "colab": {
          "base_uri": "https://localhost:8080/",
          "height": 192
        },
        "id": "booHQahsultF",
        "outputId": "b96ffa23-ed39-4f12-e80f-d404ce4b308b"
      },
      "execution_count": null,
      "outputs": [
        {
          "output_type": "execute_result",
          "data": {
            "text/plain": [
              "\"\\nBat_uniform_erosion = 0.01806\\n\\nBaton_erosion_arrays = [gdal_open(name+rasterformat,erosion_folder) for name in Baton_erosion_names]\\nBaton_erosion_arrays.insert(0,np.full_like(Baton_erosion_arrays[0],Bat_uniform_erosion))\\nBaton_conc_arrays = [gdal_open(name+rasterformat,erosion_folder) for name in Baton_concentration_names]\\n\\nE_type = ['Uniform','Slope','Linear','Nonlinear']\\n\\nE_mean = [np.nanmean(erosion) for erosion in Baton_erosion_arrays]\\nE_median = [np.nanmedian(erosion) for erosion in Baton_erosion_arrays]\\nC_mean = [np.nanmean(concentration) for concentration in Baton_conc_arrays]\\nC_median = [np.nanmedian(concentration) for concentration in Baton_conc_arrays]\\n\\n\\nerosionArrays_unc = [erosionUncertainty(pressure_array,erosion) for erosion in Baton_erosion_arrays]\\nconcArrays_unc = [concUncertainty(pressure_array,erosion,erosion_unc) for erosion,erosion_unc in zip(Baton_erosion_arrays,erosionArrays_unc)]\\nprint(len(erosionArrays_unc))\\nprint(len(concArrays_unc))\\n\\nE_mean_unc = [np.sqrt(np.nansum(erosion_unc**2)/np.count_nonzero(~np.isnan(erosion_unc))) for erosion_unc in erosionArrays_unc]\\nE_median_unc = [np.nanmedian(erosion_unc) for erosion_unc in erosionArrays_unc]\\n\\nC_mean_unc = [np.sqrt(np.nansum(conc_unc**2)/np.count_nonzero(~np.isnan(conc_unc))) for conc_unc in concArrays_unc]\\nC_median_unc = [np.nanmedian(conc_unc) for conc_unc in concArrays_unc]\\n\\nmean_HT = np.nanmean(hilltopArray)\\nK_HT_uniform = (-(1/100)*Bat_uniform_erosion/mean_HT)\\n#E_list.append(uniformE)\\nK_HT_linear = ((-1/100)*E_mean[2]/mean_HT)\\n#E_list.append(E_list[0])\\n\\nprint('E_type:',E_type)\\nprint('Mean E:',E_mean)\\nprint('Mean E unc:',E_mean_unc)\\nprint('Median E:',E_median)\\nprint('Median E unc:',E_median_unc)\\nprint('Mean C:',C_mean)\\nprint('Mean C unc:',C_mean_unc)\\nprint('Median C:',C_median)\\nprint('Median C unc:',C_median_unc)\\nprint('K-uni:',K_HT_uniform)\\nprint('K-lin:',K_HT_linear)\\n\""
            ],
            "application/vnd.google.colaboratory.intrinsic+json": {
              "type": "string"
            }
          },
          "metadata": {},
          "execution_count": 6
        }
      ]
    },
    {
      "cell_type": "code",
      "execution_count": null,
      "metadata": {
        "colab": {
          "base_uri": "https://localhost:8080/"
        },
        "id": "Zz-jWRlIjHWA",
        "outputId": "5e74e96f-12e8-4c97-b13c-9c9becfc9368"
      },
      "outputs": [
        {
          "output_type": "stream",
          "name": "stdout",
          "text": [
            "5.0991683\n"
          ]
        }
      ],
      "source": [
        "print(np.nanmean(Psp))"
      ]
    },
    {
      "cell_type": "code",
      "source": [
        "\"\"\"\n",
        "diffSc = 2.006188672\n",
        "diffK = 0.008\n",
        "\n",
        "slopeK = 0.0001\n",
        "slopeSc = 2.0\n",
        "uniformE = 0.006329513225\n",
        "\n",
        "all_erosionArrays = erosionRate(dx,dy,dxx,dyy,diffK,slopeK,diffSc,slopeSc,uniformE)\n",
        "erosionArrays = [all_erosionArrays[0],all_erosionArrays[1]]\n",
        "concArrays = []\n",
        "for erosion in erosionArrays:\n",
        "  print('mean E:',np.nanmean(erosion))\n",
        "  print('median E:',np.nanmedian(erosion))\n",
        "  conc = surfaceConcentration(pressure_array,erosion,Psp,Pmu)\n",
        "  concArrays.append(conc)\n",
        "print(len(concArrays))\n",
        "for conc in concArrays:\n",
        "  print('mean C:',np.nanmean(conc))\n",
        "  print('median C:',np.nanmedian(conc))\n",
        "\"\"\"\n"
      ],
      "metadata": {
        "id": "ol6pK5RK_YR7",
        "colab": {
          "base_uri": "https://localhost:8080/"
        },
        "outputId": "e4777af5-76ac-4323-a2f6-2e4721b861ba"
      },
      "execution_count": null,
      "outputs": [
        {
          "output_type": "stream",
          "name": "stdout",
          "text": [
            "mean E: 0.01666152326077555\n",
            "median E: 0.01133096106350422\n",
            "mean E: 0.14367979397075098\n",
            "median E: 0.014316187308054295\n",
            "2\n",
            "mean C: 69784.61897203185\n",
            "median C: 34097.233398736455\n",
            "mean C: 55977.010790944645\n",
            "median C: 27244.000674658193\n"
          ]
        }
      ]
    },
    {
      "cell_type": "code",
      "source": [
        "linear_file = DEM_name +\"_K\"+f\"{diffK:.3f}\"+\"_LinErosion\"\n",
        "nonlinear_file = DEM_name +\"_K\"+f\"{diffK:.3f}\"+\"_Sc\"+f\"{diffSc:.2f}\"+\"_NonlinErosion\"\n",
        "erosion_files = [linear_file,nonlinear_file]\n",
        "for each_file, each_array in zip(erosion_files,erosionArrays):\n",
        "    print(\"Saving as\",each_file)\n",
        "    RasterMaker(each_array,erosion_folder+each_file+rasterformat,folder+elevation_raster+rasterformat)\n",
        "print(\"Made erosion arrays into tifs\")\n",
        "C_lin_file = DEM_name + f'_{CRNs[CRN]}'+f'_linE0.02'\n",
        "C_nonlin_file = DEM_name + f'_{CRNs[CRN]}'+f'_nonlinE0.14'\n",
        "C_files = [C_lin_file,C_nonlin_file]\n",
        "for each_file, each_array in zip(C_files,concArrays):\n",
        "    print(\"Saving as\",each_file)\n",
        "    RasterMaker(each_array,erosion_folder+each_file+rasterformat,folder+elevation_raster+rasterformat)\n",
        "print(\"Made concentration arrays into tifs\")"
      ],
      "metadata": {
        "colab": {
          "base_uri": "https://localhost:8080/"
        },
        "id": "j5bnRJpoLsIO",
        "outputId": "20d9ee11-0590-4587-9b71-242845acbbdf"
      },
      "execution_count": null,
      "outputs": [
        {
          "output_type": "stream",
          "name": "stdout",
          "text": [
            "Saving as Stanley_K0.008_LinErosion\n",
            "Saving as Stanley_K0.008_Sc2.01_NonlinErosion\n",
            "Made erosion arrays into tifs\n",
            "Saving as Stanley_Be10_linE0.02\n",
            "Saving as Stanley_Be10_nonlinE0.14\n",
            "Made concentration arrays into tifs\n"
          ]
        }
      ]
    },
    {
      "cell_type": "code",
      "execution_count": null,
      "metadata": {
        "colab": {
          "base_uri": "https://localhost:8080/",
          "height": 426
        },
        "id": "5T17diZfOSVc",
        "outputId": "d893799e-744c-431c-c127-5fe263b23b32"
      },
      "outputs": [
        {
          "output_type": "stream",
          "name": "stdout",
          "text": [
            "solved K and Sc for diffusion\n",
            "K and Sc: 0.01646214350422366 2.0251849509055257\n"
          ]
        },
        {
          "output_type": "error",
          "ename": "KeyboardInterrupt",
          "evalue": "",
          "traceback": [
            "\u001b[0;31m---------------------------------------------------------------------------\u001b[0m",
            "\u001b[0;31mKeyboardInterrupt\u001b[0m                         Traceback (most recent call last)",
            "\u001b[0;32m<ipython-input-9-ab59e69e51d4>\u001b[0m in \u001b[0;36m<cell line: 24>\u001b[0;34m()\u001b[0m\n\u001b[1;32m     22\u001b[0m \u001b[0margs\u001b[0m \u001b[0;34m=\u001b[0m \u001b[0;34m(\u001b[0m\u001b[0mslopeArray\u001b[0m\u001b[0;34m,\u001b[0m\u001b[0mpressure_array\u001b[0m\u001b[0;34m,\u001b[0m\u001b[0mPsp\u001b[0m\u001b[0;34m,\u001b[0m\u001b[0mPmu\u001b[0m\u001b[0;34m)\u001b[0m\u001b[0;34m\u001b[0m\u001b[0;34m\u001b[0m\u001b[0m\n\u001b[1;32m     23\u001b[0m \u001b[0mdata_x0\u001b[0m \u001b[0;34m=\u001b[0m \u001b[0;34m[\u001b[0m\u001b[0mslopeK_x0\u001b[0m\u001b[0;34m,\u001b[0m\u001b[0mSc_x0\u001b[0m\u001b[0;34m]\u001b[0m\u001b[0;34m\u001b[0m\u001b[0;34m\u001b[0m\u001b[0m\n\u001b[0;32m---> 24\u001b[0;31m \u001b[0mslopeK\u001b[0m\u001b[0;34m,\u001b[0m\u001b[0mslopeSc\u001b[0m \u001b[0;34m=\u001b[0m \u001b[0mnewton\u001b[0m\u001b[0;34m(\u001b[0m\u001b[0mslopeK_C\u001b[0m\u001b[0;34m,\u001b[0m\u001b[0mdata_x0\u001b[0m\u001b[0;34m,\u001b[0m\u001b[0margs\u001b[0m\u001b[0;34m=\u001b[0m\u001b[0margs\u001b[0m\u001b[0;34m)\u001b[0m\u001b[0;34m\u001b[0m\u001b[0;34m\u001b[0m\u001b[0m\n\u001b[0m\u001b[1;32m     25\u001b[0m \u001b[0mK_list\u001b[0m\u001b[0;34m.\u001b[0m\u001b[0mappend\u001b[0m\u001b[0;34m(\u001b[0m\u001b[0mslopeK\u001b[0m\u001b[0;34m)\u001b[0m\u001b[0;34m\u001b[0m\u001b[0;34m\u001b[0m\u001b[0m\n\u001b[1;32m     26\u001b[0m \u001b[0mSc_list\u001b[0m\u001b[0;34m.\u001b[0m\u001b[0mappend\u001b[0m\u001b[0;34m(\u001b[0m\u001b[0mslopeSc\u001b[0m\u001b[0;34m)\u001b[0m\u001b[0;34m\u001b[0m\u001b[0;34m\u001b[0m\u001b[0m\n",
            "\u001b[0;32m/usr/local/lib/python3.10/dist-packages/scipy/optimize/_zeros_py.py\u001b[0m in \u001b[0;36mnewton\u001b[0;34m(func, x0, fprime, args, tol, maxiter, fprime2, x1, rtol, full_output, disp)\u001b[0m\n\u001b[1;32m    287\u001b[0m         \u001b[0;32mraise\u001b[0m \u001b[0mValueError\u001b[0m\u001b[0;34m(\u001b[0m\u001b[0;34m\"maxiter must be greater than 0\"\u001b[0m\u001b[0;34m)\u001b[0m\u001b[0;34m\u001b[0m\u001b[0;34m\u001b[0m\u001b[0m\n\u001b[1;32m    288\u001b[0m     \u001b[0;32mif\u001b[0m \u001b[0mnp\u001b[0m\u001b[0;34m.\u001b[0m\u001b[0msize\u001b[0m\u001b[0;34m(\u001b[0m\u001b[0mx0\u001b[0m\u001b[0;34m)\u001b[0m \u001b[0;34m>\u001b[0m \u001b[0;36m1\u001b[0m\u001b[0;34m:\u001b[0m\u001b[0;34m\u001b[0m\u001b[0;34m\u001b[0m\u001b[0m\n\u001b[0;32m--> 289\u001b[0;31m         return _array_newton(func, x0, fprime, args, tol, maxiter, fprime2,\n\u001b[0m\u001b[1;32m    290\u001b[0m                              full_output)\n\u001b[1;32m    291\u001b[0m \u001b[0;34m\u001b[0m\u001b[0m\n",
            "\u001b[0;32m/usr/local/lib/python3.10/dist-packages/scipy/optimize/_zeros_py.py\u001b[0m in \u001b[0;36m_array_newton\u001b[0;34m(func, x0, fprime, args, tol, maxiter, fprime2, full_output)\u001b[0m\n\u001b[1;32m    453\u001b[0m             \u001b[0mp1\u001b[0m\u001b[0;34m,\u001b[0m \u001b[0mp\u001b[0m \u001b[0;34m=\u001b[0m \u001b[0mp\u001b[0m\u001b[0;34m,\u001b[0m \u001b[0mp1\u001b[0m\u001b[0;34m\u001b[0m\u001b[0;34m\u001b[0m\u001b[0m\n\u001b[1;32m    454\u001b[0m             \u001b[0mq0\u001b[0m \u001b[0;34m=\u001b[0m \u001b[0mq1\u001b[0m\u001b[0;34m\u001b[0m\u001b[0;34m\u001b[0m\u001b[0m\n\u001b[0;32m--> 455\u001b[0;31m             \u001b[0mq1\u001b[0m \u001b[0;34m=\u001b[0m \u001b[0mnp\u001b[0m\u001b[0;34m.\u001b[0m\u001b[0masarray\u001b[0m\u001b[0;34m(\u001b[0m\u001b[0mfunc\u001b[0m\u001b[0;34m(\u001b[0m\u001b[0mp1\u001b[0m\u001b[0;34m,\u001b[0m \u001b[0;34m*\u001b[0m\u001b[0margs\u001b[0m\u001b[0;34m)\u001b[0m\u001b[0;34m)\u001b[0m\u001b[0;34m\u001b[0m\u001b[0;34m\u001b[0m\u001b[0m\n\u001b[0m\u001b[1;32m    456\u001b[0m \u001b[0;34m\u001b[0m\u001b[0m\n\u001b[1;32m    457\u001b[0m     \u001b[0mzero_der\u001b[0m \u001b[0;34m=\u001b[0m \u001b[0;34m~\u001b[0m\u001b[0mnz_der\u001b[0m \u001b[0;34m&\u001b[0m \u001b[0mfailures\u001b[0m  \u001b[0;31m# don't include converged with zero-ders\u001b[0m\u001b[0;34m\u001b[0m\u001b[0;34m\u001b[0m\u001b[0m\n",
            "\u001b[0;32m<ipython-input-2-06c70f2f44ee>\u001b[0m in \u001b[0;36mslopeK_C\u001b[0;34m(params, slope, pressure_array, spProd, muProd)\u001b[0m\n\u001b[1;32m    116\u001b[0m     \u001b[0mslopeErosion\u001b[0m \u001b[0;34m=\u001b[0m \u001b[0mnp\u001b[0m\u001b[0;34m.\u001b[0m\u001b[0mwhere\u001b[0m\u001b[0;34m(\u001b[0m\u001b[0;34m(\u001b[0m\u001b[0mnp\u001b[0m\u001b[0;34m.\u001b[0m\u001b[0misinf\u001b[0m\u001b[0;34m(\u001b[0m\u001b[0mslopeDependent\u001b[0m\u001b[0;34m)\u001b[0m \u001b[0;34m|\u001b[0m \u001b[0;34m(\u001b[0m\u001b[0mslopeDependent\u001b[0m \u001b[0;34m<=\u001b[0m \u001b[0;36m0.0\u001b[0m\u001b[0;34m)\u001b[0m\u001b[0;34m)\u001b[0m\u001b[0;34m,\u001b[0m \u001b[0mnp\u001b[0m\u001b[0;34m.\u001b[0m\u001b[0mnan\u001b[0m\u001b[0;34m,\u001b[0m \u001b[0mslopeDependent\u001b[0m\u001b[0;34m)\u001b[0m\u001b[0;34m\u001b[0m\u001b[0;34m\u001b[0m\u001b[0m\n\u001b[1;32m    117\u001b[0m \u001b[0;34m\u001b[0m\u001b[0m\n\u001b[0;32m--> 118\u001b[0;31m     \u001b[0mLeffmu\u001b[0m \u001b[0;34m=\u001b[0m \u001b[0mLeffCalculator\u001b[0m\u001b[0;34m(\u001b[0m\u001b[0mpressure_array\u001b[0m\u001b[0;34m,\u001b[0m\u001b[0mslopeErosion\u001b[0m\u001b[0;34m)\u001b[0m\u001b[0;34m\u001b[0m\u001b[0;34m\u001b[0m\u001b[0m\n\u001b[0m\u001b[1;32m    119\u001b[0m \u001b[0;34m\u001b[0m\u001b[0m\n\u001b[1;32m    120\u001b[0m     \u001b[0mC_total\u001b[0m \u001b[0;34m=\u001b[0m \u001b[0;34m(\u001b[0m\u001b[0mspProd\u001b[0m\u001b[0;34m/\u001b[0m\u001b[0;34m(\u001b[0m\u001b[0mdecayConst\u001b[0m\u001b[0;34m[\u001b[0m\u001b[0mCRN\u001b[0m\u001b[0;34m]\u001b[0m\u001b[0;34m+\u001b[0m\u001b[0;34m(\u001b[0m\u001b[0mrho\u001b[0m\u001b[0;34m*\u001b[0m\u001b[0mslopeErosion\u001b[0m\u001b[0;34m/\u001b[0m\u001b[0msp_efold\u001b[0m\u001b[0;34m)\u001b[0m\u001b[0;34m)\u001b[0m\u001b[0;34m)\u001b[0m\u001b[0;34m+\u001b[0m\u001b[0;34m(\u001b[0m\u001b[0mmuProd\u001b[0m\u001b[0;34m/\u001b[0m\u001b[0;34m(\u001b[0m\u001b[0mdecayConst\u001b[0m\u001b[0;34m[\u001b[0m\u001b[0mCRN\u001b[0m\u001b[0;34m]\u001b[0m\u001b[0;34m+\u001b[0m\u001b[0;34m(\u001b[0m\u001b[0mrho\u001b[0m\u001b[0;34m*\u001b[0m\u001b[0mslopeErosion\u001b[0m\u001b[0;34m/\u001b[0m\u001b[0mLeffmu\u001b[0m\u001b[0;34m)\u001b[0m\u001b[0;34m)\u001b[0m\u001b[0;34m)\u001b[0m\u001b[0;34m\u001b[0m\u001b[0;34m\u001b[0m\u001b[0m\n",
            "\u001b[0;32m<ipython-input-2-06c70f2f44ee>\u001b[0m in \u001b[0;36mLeffCalculator\u001b[0;34m(pressure_array, erosion_array)\u001b[0m\n\u001b[1;32m     54\u001b[0m     \u001b[0mLeff2D\u001b[0m \u001b[0;34m=\u001b[0m \u001b[0mnp\u001b[0m\u001b[0;34m.\u001b[0m\u001b[0mfull_like\u001b[0m\u001b[0;34m(\u001b[0m\u001b[0mbaro\u001b[0m\u001b[0;34m,\u001b[0m\u001b[0mnp\u001b[0m\u001b[0;34m.\u001b[0m\u001b[0mnan\u001b[0m\u001b[0;34m,\u001b[0m\u001b[0mdtype\u001b[0m\u001b[0;34m=\u001b[0m\u001b[0;34m'float'\u001b[0m\u001b[0;34m)\u001b[0m\u001b[0;34m\u001b[0m\u001b[0;34m\u001b[0m\u001b[0m\n\u001b[1;32m     55\u001b[0m     \u001b[0;32mfor\u001b[0m \u001b[0mi\u001b[0m\u001b[0;34m,\u001b[0m\u001b[0mj\u001b[0m\u001b[0;34m,\u001b[0m\u001b[0mval\u001b[0m \u001b[0;32min\u001b[0m \u001b[0mzip\u001b[0m\u001b[0;34m(\u001b[0m\u001b[0mrows\u001b[0m\u001b[0;34m,\u001b[0m\u001b[0mcols\u001b[0m\u001b[0;34m,\u001b[0m\u001b[0mLeffmu\u001b[0m\u001b[0;34m)\u001b[0m\u001b[0;34m:\u001b[0m\u001b[0;34m\u001b[0m\u001b[0;34m\u001b[0m\u001b[0m\n\u001b[0;32m---> 56\u001b[0;31m         \u001b[0mLeff2D\u001b[0m\u001b[0;34m[\u001b[0m\u001b[0mi\u001b[0m\u001b[0;34m]\u001b[0m\u001b[0;34m[\u001b[0m\u001b[0mj\u001b[0m\u001b[0;34m]\u001b[0m \u001b[0;34m=\u001b[0m \u001b[0mval\u001b[0m\u001b[0;34m\u001b[0m\u001b[0;34m\u001b[0m\u001b[0m\n\u001b[0m\u001b[1;32m     57\u001b[0m \u001b[0;34m\u001b[0m\u001b[0m\n\u001b[1;32m     58\u001b[0m     \u001b[0;32mreturn\u001b[0m \u001b[0mLeff2D\u001b[0m\u001b[0;34m\u001b[0m\u001b[0;34m\u001b[0m\u001b[0m\n",
            "\u001b[0;31mKeyboardInterrupt\u001b[0m: "
          ]
        }
      ],
      "source": [
        "# Calculating best-fit K and Sc. Outputs in meters\n",
        "K_list = []\n",
        "Sc_list = []\n",
        "E_list = []\n",
        "C_list = []\n",
        "E_median_list = []\n",
        "C_median_list = []\n",
        "Input = ['Be-10','Be-10','Be-10','Be-10','Erosion','Erosion','Erosion','Erosion','HT_Curv','HT_Curv'] # Change this if not inputting erosion\n",
        "E_type = ['Linear','Nonlinear','Slope','Uniform','Linear','Nonlinear','Slope','Uniform','Diffusion','Diffusion']\n",
        "\n",
        "all_erosions = []\n",
        "\n",
        "# # Best-fit diffusion K and Sc for concentration as input. Tolerance is 1000 atoms/g\n",
        "args = (dx,dxx,dy,dyy,pressure_array,Psp,Pmu)\n",
        "data_x0 = [diffK_x0,Sc_x0]\n",
        "diffK,diffSc = newton(diffK_C,data_x0,args=args,tol = 1000)\n",
        "K_list.extend([diffK]*2)\n",
        "Sc_list.extend([np.nan,diffSc])\n",
        "print('solved K and Sc for diffusion')\n",
        "print('K and Sc:',diffK,diffSc)\n",
        "# # Best-fit slope-dependent K and Sc for concentration as input.\n",
        "args = (slopeArray,pressure_array,Psp,Pmu)\n",
        "data_x0 = [slopeK_x0,Sc_x0]\n",
        "slopeK,slopeSc = newton(slopeK_C,data_x0,args=args)\n",
        "K_list.append(slopeK)\n",
        "Sc_list.append(slopeSc)\n",
        "print('solved K and Sc for slope-dependent')\n",
        "print('slope K and Sc:',slopeK,slopeSc)\n",
        "# # Best-fit uniform erosion rate for concentration as input\n",
        "args = (pressure_array,Psp,Pmu)\n",
        "data_x0 = uniform_x0\n",
        "uniformE = newton(uniformEFinder,data_x0,args=args,maxiter = 1000) #output is cm/yr\n",
        "K_list.append(np.nan)\n",
        "Sc_list.append(np.nan)\n",
        "print('solved uniform E:',uniformE)\n",
        "\n",
        "# Create the erosion and surface concentration arrays based on the best-fit parameters\n",
        "erosionArrays = erosionRate(dx,dy,dxx,dyy,diffK,slopeK,diffSc,slopeSc,uniformE)\n",
        "for erosion in erosionArrays:\n",
        "    E_list.append(np.nanmean(erosion))\n",
        "    E_median_list.append(np.nanmedian(erosion))\n",
        "    all_erosions.append(erosion)\n",
        "concArrays = [surfaceConcentration(pressure_array,erosion,Psp,Pmu) for erosion in erosionArrays]\n",
        "for conc in concArrays:\n",
        "    C_list.append(np.nanmean(conc))\n",
        "    C_median_list.append(np.nanmedian(conc))\n",
        "\n",
        "# # Save erosion and concentration arrays as tiffs\n",
        "linear_file = DEM_name +\"_K\"+f\"{diffK:.3f}\"+\"_LinErosion\"\n",
        "nonlinear_file = DEM_name +\"_K\"+f\"{diffK:.3f}\"+\"_Sc\"+f\"{diffSc:.2f}\"+\"_NonlinErosion\"\n",
        "slope_file = DEM_name +\"_K\"+f\"{slopeK:.3f}\"+\"_Sc\"+f\"{slopeSc:.2f}\"+\"_SlopeErosion\"\n",
        "erosion_files = [linear_file,nonlinear_file,slope_file]\n",
        "for each_file, each_array in zip(erosion_files,erosionArrays):\n",
        "    print(\"Saving as\",each_file)\n",
        "    RasterMaker(each_array,erosion_folder+each_file+rasterformat,folder+elevation_raster+rasterformat)\n",
        "print(\"Made erosion arrays into tifs\")\n",
        "C_lin_file = DEM_name + f'_{CRNs[CRN]}'+f'_linE{E_list[-4]:.2f}'\n",
        "C_nonlin_file = DEM_name + f'_{CRNs[CRN]}'+f'_nonlinE{E_list[-3]:.2f}'\n",
        "C_slope_file = DEM_name + f'_{CRNs[CRN]}'+f'_slopeE{E_list[-2]:.2f}'\n",
        "C_uniform_file = DEM_name + f'_{CRNs[CRN]}'+f'_uniformE{E_list[-1]:.2f}'\n",
        "C_files = [C_lin_file,C_nonlin_file,C_slope_file,C_uniform_file]\n",
        "for each_file, each_array in zip(C_files,concArrays):\n",
        "    print(\"Saving as\",each_file)\n",
        "    RasterMaker(each_array,erosion_folder+each_file+rasterformat,folder+elevation_raster+rasterformat)\n",
        "print(\"Made concentration arrays into tifs\")\n",
        "\n"
      ]
    },
    {
      "cell_type": "code",
      "execution_count": null,
      "metadata": {
        "id": "ijVfKXWwvHlp"
      },
      "outputs": [],
      "source": [
        "\n",
        "\n",
        "## Best-fit diffusion K and Sc for erosion as input. Tolerance is 0.02 cm/yr. Change uniformE if necessary\n",
        "args = (dx,dxx,dy,dyy,Psp,Pmu,uniformE)\n",
        "data_x0 = [diffK_x0,Sc_x0] # initial guesses for K and Sc\n",
        "diffK,diffSc = newton(diffK_E,data_x0,args=args,tol=0.02)\n",
        "K_list.extend([diffK]*2)\n",
        "Sc_list.extend([np.nan,diffSc])\n",
        "print('solved best-fit diffusion parameters')\n",
        "# # Best-fit slope-dependent K and Sc for erosion as input\n",
        "args = (slopeArray,Psp,Pmu,uniformE)\n",
        "data_x0 = [0.004,Sc_x0] #inital guess\n",
        "slopeK,slopeSc = newton(slopeK_E,data_x0,args=args)\n",
        "K_list.append(slopeK)\n",
        "Sc_list.append(slopeSc)\n",
        "print('solves best-fit slope parameters')\n",
        "erosionArrays_2 = erosionRate(dx,dy,dxx,dyy,diffK,slopeK,diffSc,slopeSc,uniformE)\n",
        "for erosion in erosionArrays_2:\n",
        "    E_list.append(np.nanmean(erosion))\n",
        "    E_median_list.append(np.nanmedian(erosion))\n",
        "    all_erosions.append(erosion)\n",
        "concArrays_2 = [surfaceConcentration(pressure_array,erosion,Psp,Pmu) for erosion in erosionArrays_2]\n",
        "for conc in concArrays_2:\n",
        "    C_list.append(np.nanmean(conc))\n",
        "    C_median_list.append(np.nanmedian(conc))\n",
        "K_list.append(np.nan)\n",
        "Sc_list.append(np.nan)\n",
        "\n",
        "print('K:',K_list)\n",
        "print('Sc',Sc_list)\n",
        "print('E',E_list)\n",
        "print('C',C_list)"
      ]
    },
    {
      "cell_type": "code",
      "execution_count": null,
      "metadata": {
        "id": "qtWl8LQ7h8Kh"
      },
      "outputs": [],
      "source": [
        "print('K:',K_list)\n",
        "print('Sc',Sc_list)\n",
        "print('E',E_list)\n",
        "print('C',C_list)"
      ]
    },
    {
      "cell_type": "code",
      "execution_count": null,
      "metadata": {
        "id": "FlJje2zPDIWW"
      },
      "outputs": [],
      "source": [
        "print('C:',len(C_list))\n",
        "print('E:',len(E_list))\n",
        "print('C_median:',len(C_median_list))\n",
        "print('E_median:',len(E_median_list))\n",
        "\n",
        "##Solve for uncertainties\n",
        "erosionArrays_unc = [erosionUncertainty(pressure_array,erosion) for erosion in all_erosions]\n",
        "concArrays_unc = [concUncertainty(pressure_array,erosion,erosion_unc) for erosion,erosion_unc in zip(all_erosions,erosionArrays_unc)]\n",
        "print(len(erosionArrays_unc))\n",
        "print(len(concArrays_unc))\n",
        "\n",
        "E_mean_unc = [np.sqrt(np.nansum(erosion_unc**2)/np.count_nonzero(~np.isnan(erosion_unc))) for erosion_unc in erosionArrays_unc]\n",
        "E_median_unc = [np.nanmedian(erosion_unc) for erosion_unc in erosionArrays_unc]\n",
        "\n",
        "C_mean_unc = [np.sqrt(np.nansum(conc_unc**2)/np.count_nonzero(~np.isnan(conc_unc))) for conc_unc in concArrays_unc]\n",
        "C_median_unc = [np.nanmedian(conc_unc) for conc_unc in concArrays_unc]\n",
        "\n",
        "print('C_mean_unc:',len(C_mean_unc))\n",
        "print('C median unc:',len(C_median_unc))\n",
        "print('E mean unc:',len(E_mean_unc))\n",
        "print('E median unc',len(E_median_unc))"
      ]
    },
    {
      "cell_type": "code",
      "execution_count": null,
      "metadata": {
        "id": "USbRTJUnDIWW"
      },
      "outputs": [],
      "source": [
        "#print([np.nanmean(conc)for conc in concArrays_unc])\n",
        "#print([np.nanmean(e) for e in erosionArrays_unc])\n",
        "#print([np.sqrt(np.nansum(conc_unc**2)/np.count_nonzero(~np.isnan(conc_unc))) for conc_unc in concArrays_unc])\n",
        "#print([np.sqrt(np.nansum(erosion_unc**2)/np.count_nonzero(~np.isnan(erosion_unc))) for erosion_unc in erosionArrays_unc])"
      ]
    },
    {
      "cell_type": "code",
      "execution_count": null,
      "metadata": {
        "id": "kP24wX-2DIWW"
      },
      "outputs": [],
      "source": [
        "Sc_list.extend([np.nan]*2) # so curvature erosion does not have a Sc value\n",
        "C_list.extend([np.nan]*2)\n",
        "C_mean_unc.extend([np.nan]*2)\n",
        "C_median_list.extend([np.nan]*2)\n",
        "C_median_unc.extend([np.nan]*2)\n",
        "E_median_list.extend([np.nan]*2)\n",
        "E_median_unc.extend([np.nan]*2)\n",
        "E_mean_unc.extend([np.nan]*2)\n",
        "mean_HT = np.nanmean(hilltopArray)\n",
        "K_list.append(-(1/100)*uniformE/mean_HT)\n",
        "E_list.append(uniformE)\n",
        "K_list.append((-1/100)*E_list[0]/mean_HT)\n",
        "E_list.append(E_list[0])"
      ]
    },
    {
      "cell_type": "code",
      "execution_count": null,
      "metadata": {
        "id": "xvEMZU8Vuj15"
      },
      "outputs": [],
      "source": [
        "CSV_data = {\n",
        "    'Input':Input,\n",
        "    'Erosion_type': E_type,\n",
        "    'K_[m2/yr]': K_list,\n",
        "    'Sc': Sc_list,\n",
        "    'Mean_E_[cm/yr]':E_list,\n",
        "    'Mean_E_unc':E_mean_unc,\n",
        "    'Median_E_[cm/yr]':E_median_list,\n",
        "    'Median_E_unc':E_median_unc,\n",
        "    'Mean_C_[at/g]':C_list,\n",
        "    'Mean_C_unc':C_mean_unc,\n",
        "    'Median_C_[at/g]':C_median_list,\n",
        "    'Median_C_unc':C_median_unc\n",
        "    }\n",
        "#print(CSV_data)"
      ]
    },
    {
      "cell_type": "code",
      "execution_count": null,
      "metadata": {
        "id": "XIln-LAxDIWW"
      },
      "outputs": [],
      "source": [
        "#print(C_mean_unc)"
      ]
    },
    {
      "cell_type": "code",
      "execution_count": null,
      "metadata": {
        "id": "XnlX2et-DIWW"
      },
      "outputs": [],
      "source": [
        "print('Input:',len(Input))\n",
        "print('E_typ:',len(E_type))\n",
        "print('K_list:',len(K_list))\n",
        "print('Sc_lis:',len(Sc_list))\n",
        "print('E_list:',len(E_list))\n",
        "print('C_list:',len(C_list))\n",
        "print('E_unc:',len(E_mean_unc))\n",
        "print('E_median:',len(E_median_list))\n",
        "print('E_median_unc:',len(E_median_unc))\n",
        "print('C_mean_unc:',len(C_mean_unc))\n",
        "print('C_median:',len(C_median_list))\n",
        "print('C_median_unc:',len(C_median_unc))"
      ]
    },
    {
      "cell_type": "code",
      "execution_count": null,
      "metadata": {
        "id": "cMd345C1DIWW"
      },
      "outputs": [],
      "source": [
        "print(E_mean_unc)\n",
        "print(E_median_list)\n",
        "print(E_median_unc)\n",
        "print(C_list)\n",
        "print(C_mean_unc)\n",
        "print(C_median_list)\n",
        "print(C_median_unc)"
      ]
    },
    {
      "cell_type": "code",
      "execution_count": null,
      "metadata": {
        "id": "DtvI6h-vDIWW"
      },
      "outputs": [],
      "source": [
        "pd.DataFrame(CSV_data).to_csv(erosion_folder+DEM_name+'_E_C_results.csv',index=False)\n",
        "print(\"made csv\")"
      ]
    },
    {
      "cell_type": "code",
      "execution_count": null,
      "metadata": {
        "id": "aP1cVLylDIWW"
      },
      "outputs": [],
      "source": []
    }
  ],
  "metadata": {
    "colab": {
      "machine_shape": "hm",
      "toc_visible": true,
      "provenance": [],
      "include_colab_link": true
    },
    "kernelspec": {
      "display_name": "Python 3",
      "name": "python3"
    },
    "language_info": {
      "codemirror_mode": {
        "name": "ipython",
        "version": 3
      },
      "file_extension": ".py",
      "mimetype": "text/x-python",
      "name": "python",
      "nbconvert_exporter": "python",
      "pygments_lexer": "ipython3",
      "version": "3.11.4"
    }
  },
  "nbformat": 4,
  "nbformat_minor": 0
}